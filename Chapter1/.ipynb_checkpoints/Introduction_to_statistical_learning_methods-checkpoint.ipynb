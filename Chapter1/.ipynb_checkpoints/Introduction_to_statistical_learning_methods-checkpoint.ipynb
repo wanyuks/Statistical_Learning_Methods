{
 "cells": [
  {
   "cell_type": "markdown",
   "metadata": {},
   "source": [
    "# 第一章 统计学习方法概论\n",
    "\n",
    "## 1.1 统计学习\n",
    "实现统计学习得方法步骤  \n",
    "(1) 得到一个有限的训练数据集合；  \n",
    "(2) 确定包含所有可能的模型的假设空间，即学习模型的集合；  \n",
    "(3) 确定模型选择的准则，即学习的策略；  \n",
    "(4) 实现求解最优模型的方法，即学习的算法；  \n",
    "(5) 通过学习方法选择最优模型；  \n",
    "(6) 利用学习的最优模型对新数据进行预测或分析。\n",
    "    \n",
    " \n",
    "## 1.2 监督学习  \n",
    "  输入空间：输入的所有的可能值的集合。  \n",
    "   特征空间：所有特征向量存在得空间。  \n",
    "    输出空间：输出的所有可能值得集合。  \n",
    "     联合概率分布：监督学习假设输入和输出得随机变量$X$和$Y$遵循联合概率分布$P(X,Y)$，$P(X,Y)$表示分布函数或分布密度函数。\n",
    "     \n",
    "## 1.3 统计学习三要素  \n",
    "统计学习方法都是由模型、策略和算法组成，统计学习三要素可以简单得表示为：  \n",
    "<center>方法 = 模型 + 策略 + 算法</center>  \n",
    "期望损失（风险函数）：损失函数关于$X$，$Y$的联合概率分布$P(X,Y)$的期望损失；  \n",
    "经验损失（经验风险）：模型$f(X)$关于训练集数据的平均损失；  \n",
    "结构化风险最小化：在经验风险最小化的基础上加上表示模型复杂度的正则化项。  \n",
    "\n",
    "## 1.4 模型评估与模型选择  \n",
    "训练误差：模型$Y=\\hat{f}(X)$关于训练集的平均损失；  \n",
    "册数误差：模型$Y=\\hat{f}(X)$关于测试集的平均损失。"
   ]
  },
  {
   "cell_type": "markdown",
   "metadata": {},
   "source": []
  },
  {
   "cell_type": "markdown",
   "metadata": {},
   "source": []
  },
  {
   "cell_type": "code",
   "execution_count": null,
   "metadata": {},
   "outputs": [],
   "source": []
  }
 ],
 "metadata": {
  "kernelspec": {
   "display_name": "Python 3",
   "language": "python",
   "name": "python3"
  },
  "language_info": {
   "codemirror_mode": {
    "name": "ipython",
    "version": 3
   },
   "file_extension": ".py",
   "mimetype": "text/x-python",
   "name": "python",
   "nbconvert_exporter": "python",
   "pygments_lexer": "ipython3",
   "version": "3.7.3"
  }
 },
 "nbformat": 4,
 "nbformat_minor": 2
}
