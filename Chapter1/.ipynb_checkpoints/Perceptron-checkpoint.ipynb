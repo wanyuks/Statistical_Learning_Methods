{
 "cells": [
  {
   "cell_type": "markdown",
   "metadata": {},
   "source": [
    "# 第二章 感知机\n",
    "感知机模型：\n",
    "<center>$f(x)=sign(w \\cdot x+b)$</center>  \n",
    "其中，sign时符号函数：\n",
    "<center>\n",
    "$$sign(x)=\\begin{cases}\n",
    "1 & x \\geq 0\\\\\n",
    "-1 & x<0\n",
    "\\end{cases}$$\n",
    "</center>\n",
    "感知机模型即是通过训练数据求得模型参数$w,b$，对于新输入的实例数据，通过学习到的模型，给出其对应的输出类别。\n",
    "\n",
    "感知机的损失函数：\n",
    "损失函数的一个自然选择是误分类点的总数，但是这样的损失函数不是参数$w,b$的连续可导函数，不易优化；损失函数的另一个选择就是误分类点到超平面$S$的距离的总和，这是感知机所采用的。空间中任意一点到平面的距离可表示为，\n",
    "<center>\n",
    "$\\frac{1}{||w||}|w \\cdot x+b|$\n",
    "</center>\n",
    "其中，$\\frac{1}{||w||}|$表示的是$w$的$L_2$范数。\n",
    "对于误分类的数据$(x_i,y_i)$来说，由于\n",
    "<center>\n",
    "$-y_i(w \\cdot x_i+b) > 0$\n",
    "</center>\n",
    "始终成立，所以，误分类点到平面S的距离可表示为：\n",
    "<center>\n",
    "$-y_i\\frac{1}{||w||}(w \\cdot x+b)$\n",
    "</center>\n",
    "对于误分类点的集合M，损失函数可表示为：\n",
    "<center>\n",
    "$L(w,b)=-y_i\\frac{1}{||w||}\\sum_{x_i \\in M}{(w \\cdot x_i+b)}$\n",
    "</center>\n",
    "感知机算法就是通过优化上述的损失函数，求得$w,b$，使得没有误分类点。  \n",
    "\n",
    "算法2.1（感知机算法的原始形式）  \n",
    "输入：训练数据集$T=\\{(x_1,y_1),(x_2,y_2),\\cdots,(x_N,y_N)\\}$，其中$x_i \\in R^n,y_i \\in \\{-1,1\\},i=1,2,\\cdots,N$，学习率$\\eta(0<\\eta\\leq1)$；  \n",
    "输出：$w,b$，感知机模型$f(x)=sign(w \\cdot x+b)$    \n",
    "（1） 选取初始值$w_0,b_0$;    \n",
    "（2） 在训练集中选取数据$(x_i,y_i)$;    \n",
    "（3） 如果$y_i(w \\cdot x_i+b)\\leq0$,\n",
    "<center>\n",
    "$w \\leftarrow w+ \\eta y_ix_i$    \n",
    "$b \\leftarrow b+ \\eta y_i$\n",
    "</center>\n",
    "<center>   \n",
    "$b \\leftarrow b+ \\eta y_i$\n",
    "</center>    \n",
    "（4）转至（2），直至训练集中没有误分类点。"
   ]
  },
  {
   "cell_type": "code",
   "execution_count": null,
   "metadata": {},
   "outputs": [],
   "source": [
    "class OriginalPerceptron(object):\n",
    "    def __init__(self)"
   ]
  }
 ],
 "metadata": {
  "kernelspec": {
   "display_name": "Python 3",
   "language": "python",
   "name": "python3"
  },
  "language_info": {
   "codemirror_mode": {
    "name": "ipython",
    "version": 3
   },
   "file_extension": ".py",
   "mimetype": "text/x-python",
   "name": "python",
   "nbconvert_exporter": "python",
   "pygments_lexer": "ipython3",
   "version": "3.7.3"
  }
 },
 "nbformat": 4,
 "nbformat_minor": 2
}
