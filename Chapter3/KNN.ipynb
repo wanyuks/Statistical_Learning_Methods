{
 "cells": [
  {
   "cell_type": "markdown",
   "metadata": {},
   "source": [
    "# 第三章 k近邻法\n",
    "k近邻法简单直观：给定一个训练数据集，对新的输入实例，在训练数据集中找到与该实例最邻近的k个实例，这k个实例的多数属于某个类，就把该输入实例分为这个类。  \n",
    "### 算法3.1 （k近邻法）\n",
    "输入：训练数据集$T=\\{(x_1,y_1),(x_2,y_2),\\cdots,(x_N,y_N)\\}$，其中$x_i \\in R^n,y_i \\in \\{-1,1\\},i=1,2,\\cdots,N$，学习率$\\eta(0<\\eta\\leq1)$；  \n",
    "输出：实例$x$所属的类$y$。  \n",
    "（1）根据给定的距离度量，在训练集$T$中找到与$x$最邻近的$k$个点，涵盖这$k$个点的$x$的领域记作$N_k(x)$;  \n",
    "（2）在$N_k(x)$中根据分类决策规则（如多数表决）决定$x$的类别$y$:\n",
    "<center>\n",
    "$y=argmax_{c_j} \\sum_{x_i \\in N_k(x)}I(y_i=c_j), i=1,2,\\cdots,N; j=1,2,\\cdots,K$\n",
    "</center>\n",
    "其中，$I$为指示函数，即当$y_i=c_j$时$I$为1，否则$I$为0；  \n",
    "k近邻法的特殊情况时$k=1$的情形，成为最近邻法，对于输入的实例$x$，最近邻法将训练数据集中与x最邻近的点的类作为x的类。  \n",
    "\n",
    "### $k$值的选取对模型的影响\n",
    "如果选择较小的$k$值，就相当于用较小的领域的训练实例进行预测，“学习”的近似误差会减小，只有与输入实例较近的点才能对预测结果产生影响，但缺点是“学习”的估计误差会增大，预测结果会对近邻的实例点非常敏感，如果邻近的点恰巧时噪声，那么预测就会出错。换句话说，$k$值的减小意味着整体模型变得复杂，容易发生过拟合；\n",
    "如果选取较大的$k$值，就相当于用较大的领域的训练实例进行预测，其优点时可以减少估计误差，但缺点时学习的近似误差会增大，这时，与输入实例较远的训练实例也会对结果产生影响，使得预测发生错误，$k$值得增大意味着模型变得简单。    \n",
    "PS：近似误差：可以理解为对现有训练集的训练误差；    \n",
    "&emsp; &emsp;估计误差： 可以理解为对测试集的测试误差。\n",
    "\n",
    "### 算法3.2（构造平衡kd树）\n",
    "输入：$k$维空间数据集$T＝\\{x_1，x_2,…,x_N\\}$，\n",
    "\n",
    "其中$x_{i}=\\left(x_{i}^{(1)}, x_{i}^{(2)}, \\cdots, x_{i}^{(k)}\\right)^{\\mathrm{T}}$ ，$i＝1,2,…,N$；\n",
    "\n",
    "输出：kd树。\n",
    "\n",
    "（1）开始：构造根结点，根结点对应于包含$T$的$k$维空间的超矩形区域。\n",
    "\n",
    "选择$x^{(1)}$为坐标轴，以T中所有实例的$x^{(1)}$坐标的中位数为切分点，将根结点对应的超矩形区域切分为两个子区域。切分由通过切分点并与坐标轴$x^{(1)}$垂直的超平面实现。\n",
    "\n",
    "由根结点生成深度为1的左、右子结点：左子结点对应坐标$x^{(1)}$小于切分点的子区域， 右子结点对应于坐标$x^{(1)}$大于切分点的子区域。\n",
    "\n",
    "将落在切分超平面上的实例点保存在根结点。\n",
    "\n",
    "（2）重复：对深度为$j$的结点，选择$x^{(1)}$为切分的坐标轴，$l＝j(modk)+1$，以该结点的区域中所有实例的$x^{(1)}$坐标的中位数为切分点，将该结点对应的超矩形区域切分为两个子区域。切分由通过切分点并与坐标轴$x^{(1)}$垂直的超平面实现。\n",
    "\n",
    "由该结点生成深度为$j+1$的左、右子结点：左子结点对应坐标$x^{(1)}$小于切分点的子区域，右子结点对应坐标$x^{(1)}$大于切分点的子区域。\n",
    "\n",
    "将落在切分超平面上的实例点保存在该结点。\n",
    "\n",
    "（3）直到两个子区域没有实例存在时停止。从而形成kd树的区域划分。"
   ]
  },
  {
   "cell_type": "markdown",
   "metadata": {},
   "source": [
    "下面用python实现$kd$树"
   ]
  },
  {
   "cell_type": "code",
   "execution_count": null,
   "metadata": {},
   "outputs": [],
   "source": [
    "class KdNode(object):\n",
    "    def __init__(self, ele, left, right):\n",
    "        '''\n",
    "        :param dom_elt:  K维向量节点（K维空间中的一个样本点）\n",
    "        :param left: 分割超平面产生的左子空间构成的kd树\n",
    "        :param right:分割超平面产生的右子空间构成的kd树\n",
    "        '''\n",
    "        self.ele = ele\n",
    "        self.left = left\n",
    "        self.right = right\n",
    "\n",
    "\n",
    "class KdTree(object):\n",
    "    def __init__(self, data):\n",
    "        self.data = data\n",
    "        self.k = len(data[0])\n",
    "\n",
    "    def create_node(self, data_set, split=0):\n",
    "        if data_set == None:\n",
    "            return None\n",
    "        else:\n",
    "            data_set = sorted(data_set, key=lambda x: x[split])  #将数据按split位置排序\n",
    "            split_pos = len(data_set) // 2  # 分割点\n",
    "            data_split = data_set[split_pos]  # 得到分割点\n",
    "            return KdNode(\n",
    "                data_split,\n",
    "                self.create_node(data_set[:split_pos], split+1),\n",
    "                self.create_node(data_set[split_pos+1:], split+1)\n",
    "            )\n",
    "\n",
    "    # kd树的前序遍历\n",
    "    def preorder(self, root):\n",
    "        print(root.ele)\n",
    "        if root.left:\n",
    "            print(root.left)\n",
    "        if root.right:\n",
    "            print(root.right)\n",
    "    "
   ]
  }
 ],
 "metadata": {
  "kernelspec": {
   "display_name": "Python 3",
   "language": "python",
   "name": "python3"
  },
  "language_info": {
   "codemirror_mode": {
    "name": "ipython",
    "version": 3
   },
   "file_extension": ".py",
   "mimetype": "text/x-python",
   "name": "python",
   "nbconvert_exporter": "python",
   "pygments_lexer": "ipython3",
   "version": "3.7.3"
  }
 },
 "nbformat": 4,
 "nbformat_minor": 2
}
