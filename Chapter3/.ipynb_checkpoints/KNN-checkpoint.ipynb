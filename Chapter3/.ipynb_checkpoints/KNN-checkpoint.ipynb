{
 "cells": [
  {
   "cell_type": "markdown",
   "metadata": {},
   "source": [
    "# 第三章 k近邻法\n",
    "k近邻法简单直观：给定一个训练数据集，对新的输入实例，在训练数据集中找到与该实例最邻近的k个实例，这k个实例的多数属于某个类，就把该输入实例分为这个类。  \n",
    "### 算法3.1 （k近邻法）\n",
    "输入：训练数据集$T=\\{(x_1,y_1),(x_2,y_2),\\cdots,(x_N,y_N)\\}$，其中$x_i \\in R^n,y_i \\in \\{-1,1\\},i=1,2,\\cdots,N$，学习率$\\eta(0<\\eta\\leq1)$；  \n",
    "输出：实例$x$所属的类$y$。  \n",
    "（1）根据给定的距离度量，在训练集$T$中找到与$x$最邻近的$k$个点，涵盖这$k$个点的$x$的领域记作$N_k(x)$;  \n",
    "（2）在$N_k(x)$中根据分类决策规则（如多数表决）决定$x$的类别$y$:\n",
    "<center>\n",
    "$y=argmax_{c_j} \\sum_{x_i \\in N_k(x)}I(y_i=c_j), i=1,2,\\cdots,N; j=1,2,\\cdots,K$\n",
    "</center>\n",
    "其中，$I$为指示函数，即当$y_i=c_j$时$I$为1，否则$I$为0；  \n",
    "k近邻法的特殊情况时$k=1$的情形，成为最近邻法，对于输入的实例$x$，最近邻法将训练数据集中与x最邻近的点的类作为x的类。  \n",
    "\n",
    "### $k$值的选取对模型的影响\n",
    "如果选择较小的$k$值，就相当于用较小的领域的训练实例进行预测，“学习”的近似误差会减小，只有与输入实例较近的点才能对预测结果产生影响，但缺点是“学习”的估计误差会增大，预测结果会对近邻的实例点非常敏感，如果邻近的点恰巧时噪声，那么预测就会出错。换句话说，$k$值的减小意味着整体模型变得复杂，容易发生过拟合；\n",
    "如果选取较大的$k$值，就相当于用较大的领域的训练实例进行预测，其优点时可以减少估计误差，但缺点时学习的近似误差会增大，这时，与输入实例较远的训练实例也会对结果产生影响，使得预测发生错误，$k$值得增大意味着模型变得简单。    \n",
    "PS：近似误差：可以理解为对现有训练集的训练误差；    \n",
    "&emsp; &emsp;估计误差： 可以理解为对测试集的测试误差。\n",
    "\n",
    "### 算法3.2（构造平衡kd树）\n",
    "输入：$k$维空间数据集$T＝\\{x_1，x_2,…,x_N\\}$，\n",
    "\n",
    "其中$x_{i}=\\left(x_{i}^{(1)}, x_{i}^{(2)}, \\cdots, x_{i}^{(k)}\\right)^{\\mathrm{T}}$ ，$i＝1,2,…,N$；\n",
    "\n",
    "输出：kd树。\n",
    "\n",
    "（1）开始：构造根结点，根结点对应于包含$T$的$k$维空间的超矩形区域。\n",
    "\n",
    "选择$x^{(1)}$为坐标轴，以T中所有实例的$x^{(1)}$坐标的中位数为切分点，将根结点对应的超矩形区域切分为两个子区域。切分由通过切分点并与坐标轴$x^{(1)}$垂直的超平面实现。\n",
    "\n",
    "由根结点生成深度为1的左、右子结点：左子结点对应坐标$x^{(1)}$小于切分点的子区域， 右子结点对应于坐标$x^{(1)}$大于切分点的子区域。\n",
    "\n",
    "将落在切分超平面上的实例点保存在根结点。\n",
    "\n",
    "（2）重复：对深度为$j$的结点，选择$x^{(1)}$为切分的坐标轴，$l＝j(modk)+1$，以该结点的区域中所有实例的$x^{(1)}$坐标的中位数为切分点，将该结点对应的超矩形区域切分为两个子区域。切分由通过切分点并与坐标轴$x^{(1)}$垂直的超平面实现。\n",
    "\n",
    "由该结点生成深度为$j+1$的左、右子结点：左子结点对应坐标$x^{(1)}$小于切分点的子区域，右子结点对应坐标$x^{(1)}$大于切分点的子区域。\n",
    "\n",
    "将落在切分超平面上的实例点保存在该结点。\n",
    "\n",
    "（3）直到两个子区域没有实例存在时停止。从而形成kd树的区域划分。"
   ]
  },
  {
   "cell_type": "markdown",
   "metadata": {},
   "source": [
    "下面用python实现$kd$树"
   ]
  },
  {
   "cell_type": "code",
   "execution_count": 1,
   "metadata": {},
   "outputs": [],
   "source": [
    "class KdNode(object):\n",
    "    def __init__(self, ele, left, right):\n",
    "        '''\n",
    "        :param dom_elt:  K维向量节点（K维空间中的一个样本点）\n",
    "        :param left: 分割超平面产生的左子空间构成的kd树\n",
    "        :param right:分割超平面产生的右子空间构成的kd树\n",
    "        '''\n",
    "        self.ele = ele\n",
    "        self.left = left\n",
    "        self.right = right\n",
    "\n",
    "\n",
    "class KdTree(object):\n",
    "    def __init__(self, data):\n",
    "        self.data = data\n",
    "        self.k = len(data[0])\n",
    "\n",
    "    def create_node(self, data_set, split=0):\n",
    "        if data_set == None:\n",
    "            return None\n",
    "        else:\n",
    "            data_set = sorted(data_set, key=lambda x: x[split])  #将数据按split位置排序\n",
    "            split_pos = len(data_set) // 2  # 分割点\n",
    "            data_split = data_set[split_pos]  # 得到分割点\n",
    "            return KdNode(\n",
    "                data_split,\n",
    "                self.create_node(data_set[:split_pos], split+1),\n",
    "                self.create_node(data_set[split_pos+1:], split+1)\n",
    "            )\n",
    "\n",
    "    # kd树的前序遍历\n",
    "    def preorder(self, root):\n",
    "        print(root.ele)\n",
    "        if root.left:\n",
    "            print(root.left)\n",
    "        if root.right:\n",
    "            print(root.right)\n",
    "    "
   ]
  },
  {
   "cell_type": "markdown",
   "metadata": {},
   "source": [
    "python实现KNN算法"
   ]
  },
  {
   "cell_type": "code",
   "execution_count": 2,
   "metadata": {},
   "outputs": [],
   "source": [
    "import numpy as np\n",
    "from collections import Counter\n",
    "\n",
    "from sklearn.datasets import load_iris\n",
    "from sklearn.model_selection import train_test_split\n",
    "from sklearn.preprocessing import scale"
   ]
  },
  {
   "cell_type": "code",
   "execution_count": 3,
   "metadata": {},
   "outputs": [],
   "source": [
    "class KNN(object):\n",
    "    def __init__(self, k=5):\n",
    "        self.k = k\n",
    "\n",
    "    def fit(self, X, y):\n",
    "        self.X = np.array(X)\n",
    "        self.y = np.array(y)\n",
    "\n",
    "    def _distance(self, v1, v2, distance_type='euclidean'):\n",
    "        if distance_type == 'euclidean':\n",
    "            distance = (np.sum([(v1[i] - v2[i]) ** 2 for i in range(len(v1))])) ** 0.5\n",
    "            return distance\n",
    "        if distance_type == 'manhattan':\n",
    "            distance = np.sum([abs(v1[i] - v2[i]) for i in range(len(v1))])\n",
    "            return distance\n",
    "        else:\n",
    "            raise TypeError('distance_type must be euclidean or manhattan')\n",
    "\n",
    "    def predict(self, x):\n",
    "        y_pred = []\n",
    "        for i in range(len(x)):\n",
    "            dist_arr = [self._distance(x[i], self.X[j]) for j in range(len(self.X))]\n",
    "            # 获取距离排序后的索引\n",
    "            '''\n",
    "            np.argsort():\n",
    "            l = np.array([1,4,3,-1,6,9])\n",
    "            l_index_sort = np.argsort(l): array([3, 0, 2, 1, 4, 5], dtype=int64)\n",
    "            l_index_sort[0]=3表示l[3]在l中最小\n",
    "            '''\n",
    "            sort_index = np.argsort(dist_arr)\n",
    "            # 获取top_k的索引\n",
    "            top_k = sort_index[:self.k]\n",
    "            # 获取最相近k个实例的类别\n",
    "            label_k = self.y[top_k]\n",
    "            # 投票决定类别\n",
    "            label_k_count = Counter(label_k)\n",
    "            label_k_count_most = sorted(label_k_count.items(), key=lambda x:x[1], reverse=True)[0][0]\n",
    "            y_pred.append(label_k_count_most)\n",
    "        return np.array(y_pred)\n",
    "\n",
    "    def score(self, y_pred=None, y_true=None):\n",
    "        if y_pred is None or y_true is None:\n",
    "            y_pred = self.predict(self.X)\n",
    "            y_true = self.y\n",
    "        count = 0\n",
    "        for i in range(len(y_pred)):\n",
    "            if y_pred[i] == y_true[i]:\n",
    "                count += 1\n",
    "        score = count / len(y_pred)\n",
    "        return round(score, 3)"
   ]
  },
  {
   "cell_type": "code",
   "execution_count": 4,
   "metadata": {},
   "outputs": [
    {
     "name": "stdout",
     "output_type": "stream",
     "text": [
      "train accuracy: 0.955\n",
      "test accuracy: 0.947\n"
     ]
    }
   ],
   "source": [
    "data = load_iris()\n",
    "X = data['data']\n",
    "y = data['target']\n",
    "X_train, X_test, y_train, y_test = train_test_split(X, y, test_size=0.25, shuffle=True, random_state=1)\n",
    "# 对数据进行标准化处理\n",
    "X_train = scale(X_train)\n",
    "X_test = scale(X_test)\n",
    "clf = KNN()\n",
    "clf.fit(X_train, y_train)\n",
    "y_pred = clf.predict(X_test)\n",
    "print('train accuracy:', clf.score())\n",
    "print('test accuracy:', clf.score(y_pred, y_test))"
   ]
  },
  {
   "cell_type": "markdown",
   "metadata": {},
   "source": [
    "使用sklearn封装好的"
   ]
  },
  {
   "cell_type": "code",
   "execution_count": 5,
   "metadata": {},
   "outputs": [
    {
     "name": "stdout",
     "output_type": "stream",
     "text": [
      "accuracy with sklearn 0.9473684210526315\n"
     ]
    }
   ],
   "source": [
    "from sklearn.neighbors import KNeighborsClassifier\n",
    "clf_sk = KNeighborsClassifier()\n",
    "clf_sk.fit(X_train, y_train)\n",
    "print('accuracy with sklearn',clf_sk.score(X_test, y_test))"
   ]
  },
  {
   "cell_type": "code",
   "execution_count": null,
   "metadata": {},
   "outputs": [],
   "source": []
  }
 ],
 "metadata": {
  "kernelspec": {
   "display_name": "Python 3",
   "language": "python",
   "name": "python3"
  },
  "language_info": {
   "codemirror_mode": {
    "name": "ipython",
    "version": 3
   },
   "file_extension": ".py",
   "mimetype": "text/x-python",
   "name": "python",
   "nbconvert_exporter": "python",
   "pygments_lexer": "ipython3",
   "version": "3.7.3"
  }
 },
 "nbformat": 4,
 "nbformat_minor": 2
}
